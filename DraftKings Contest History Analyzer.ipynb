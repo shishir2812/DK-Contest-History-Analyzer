{
 "cells": [
  {
   "cell_type": "markdown",
   "id": "f1a10b94",
   "metadata": {},
   "source": [
    "<h1> DraftKings Contest History Analyzer\n",
    "    <h2> Introduction </h2>\n",
    "    \n",
    "DraftKings doesn't provide any details and analytics on your contest history other than a csv file with all your entries. (Probably to keep the player oblivious on their spending) \n",
    "    \n",
    "The purpose of this script is to provide details and analytics on your contest history"
   ]
  },
  {
   "cell_type": "markdown",
   "id": "59041802",
   "metadata": {},
   "source": [
    "## Import and Preprocessing"
   ]
  },
  {
   "cell_type": "code",
   "execution_count": 1,
   "id": "3bba9368",
   "metadata": {},
   "outputs": [],
   "source": [
    "import pandas as pd"
   ]
  },
  {
   "cell_type": "markdown",
   "id": "d27bba90",
   "metadata": {},
   "source": [
    "## 1. Totals "
   ]
  },
  {
   "cell_type": "markdown",
   "id": "e0559ede",
   "metadata": {},
   "source": [
    "### Total Deposits"
   ]
  },
  {
   "cell_type": "code",
   "execution_count": null,
   "id": "be5d9a57",
   "metadata": {},
   "outputs": [],
   "source": []
  },
  {
   "cell_type": "markdown",
   "id": "ff726318",
   "metadata": {},
   "source": [
    "### Total Entry Fees"
   ]
  },
  {
   "cell_type": "code",
   "execution_count": null,
   "id": "64262ede",
   "metadata": {},
   "outputs": [],
   "source": []
  },
  {
   "cell_type": "markdown",
   "id": "be96648e",
   "metadata": {},
   "source": [
    "### Total Winnings and Profit"
   ]
  },
  {
   "cell_type": "code",
   "execution_count": null,
   "id": "1e719ff0",
   "metadata": {},
   "outputs": [],
   "source": []
  },
  {
   "cell_type": "markdown",
   "id": "616c1bea",
   "metadata": {},
   "source": [
    "## 2. Daily Entries"
   ]
  },
  {
   "cell_type": "code",
   "execution_count": null,
   "id": "2166276d",
   "metadata": {},
   "outputs": [],
   "source": []
  },
  {
   "cell_type": "markdown",
   "id": "55fed2af",
   "metadata": {},
   "source": [
    "## 3. Sports Analytics"
   ]
  },
  {
   "cell_type": "code",
   "execution_count": null,
   "id": "82f8b537",
   "metadata": {},
   "outputs": [],
   "source": []
  },
  {
   "cell_type": "markdown",
   "id": "2ec37424",
   "metadata": {},
   "source": [
    "## 4. Contest Type Analytics"
   ]
  },
  {
   "cell_type": "code",
   "execution_count": null,
   "id": "575155a2",
   "metadata": {},
   "outputs": [],
   "source": []
  },
  {
   "cell_type": "markdown",
   "id": "804a2b72",
   "metadata": {},
   "source": [
    "## 5. Profit Maximization"
   ]
  },
  {
   "cell_type": "code",
   "execution_count": null,
   "id": "ecbf40af",
   "metadata": {},
   "outputs": [],
   "source": []
  }
 ],
 "metadata": {
  "kernelspec": {
   "display_name": "Python 3",
   "language": "python",
   "name": "python3"
  },
  "language_info": {
   "codemirror_mode": {
    "name": "ipython",
    "version": 3
   },
   "file_extension": ".py",
   "mimetype": "text/x-python",
   "name": "python",
   "nbconvert_exporter": "python",
   "pygments_lexer": "ipython3",
   "version": "3.8.8"
  }
 },
 "nbformat": 4,
 "nbformat_minor": 5
}
